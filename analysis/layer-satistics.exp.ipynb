{
 "cells": [
  {
   "cell_type": "code",
   "execution_count": 47,
   "metadata": {},
   "outputs": [],
   "source": [
    "# Import libraries\n",
    "import pandas as pd\n",
    "import numpy as np\n",
    "import seaborn as sns\n",
    "import matplotlib.pyplot as plt\n",
    "import glob"
   ]
  },
  {
   "cell_type": "code",
   "execution_count": 48,
   "metadata": {},
   "outputs": [],
   "source": [
    "pathToData = './profile-networks'\n",
    "# Make sure the paths exist\n",
    "from pathlib import Path\n",
    "Path('{}/statistics'.format(pathToData)).mkdir(parents=True, exist_ok=True)"
   ]
  },
  {
   "cell_type": "code",
   "execution_count": 49,
   "metadata": {},
   "outputs": [],
   "source": [
    "# Read all the linear files into a pandas dataframe\n",
    "pathToLinearFiles = '{}/linear/*.csv'.format(pathToData)\n",
    "all_files = glob.glob(pathToLinearFiles)\n",
    "li = []\n",
    "for filename in all_files:\n",
    "#     print('Reading file \\'{}\\''.format(filename))\n",
    "    df = pd.read_csv(filename)\n",
    "    li.append(df)\n",
    "data = pd.concat(li, axis=0, ignore_index=True)"
   ]
  },
  {
   "cell_type": "code",
   "execution_count": 46,
   "metadata": {},
   "outputs": [
    {
     "name": "stdout",
     "output_type": "stream",
     "text": [
      "./profile-networks/statistics/Salient-Object-Subitizing.stats.csv\n",
      "./profile-networks/statistics/Salient-Object-Subitizing_google.stats.csv\n",
      "./profile-networks/statistics/AgeNet.stats.csv\n",
      "./profile-networks/statistics/GenderNet.stats.csv\n",
      "./profile-networks/statistics/FaceNet.stats.csv\n"
     ]
    }
   ],
   "source": [
    "networks = data.networkName.unique()\n",
    "for network in networks:\n",
    "    networkData = data[data['networkName'] == network]\n",
    "    networkData = networkData.groupby('layerName').mean()\n",
    "    networkData['loading'] = networkData['Loading_ns'] / (1000**1)\n",
    "    networkData['execution'] = networkData['execution_ns'] / (1000**1)\n",
    "    networkData = networkData.astype({\"layerId\": int})\n",
    "    networkData = networkData.reset_index().set_index('layerId').sort_index()\n",
    "    networkData = networkData[['layerName', 'loading', 'execution']]\n",
    "#     print('Saving file of {}'.format(network.replace(' ', '-')))\n",
    "    filename = '{}/statistics/{}.stats.csv'.format(pathToData,network.replace(' ', '-'))\n",
    "    networkData.to_csv(filename)\n",
    "    print(filename)"
   ]
  },
  {
   "cell_type": "code",
   "execution_count": null,
   "metadata": {},
   "outputs": [],
   "source": []
  }
 ],
 "metadata": {
  "kernelspec": {
   "display_name": "Python 3",
   "language": "python",
   "name": "python3"
  },
  "language_info": {
   "codemirror_mode": {
    "name": "ipython",
    "version": 3
   },
   "file_extension": ".py",
   "mimetype": "text/x-python",
   "name": "python",
   "nbconvert_exporter": "python",
   "pygments_lexer": "ipython3",
   "version": "3.7.4"
  }
 },
 "nbformat": 4,
 "nbformat_minor": 4
}
